{
  "nbformat": 4,
  "nbformat_minor": 0,
  "metadata": {
    "colab": {
      "provenance": [],
      "authorship_tag": "ABX9TyNiiqQbmF7uARZnZelIPw3P",
      "include_colab_link": true
    },
    "kernelspec": {
      "name": "python3",
      "display_name": "Python 3"
    },
    "language_info": {
      "name": "python"
    }
  },
  "cells": [
    {
      "cell_type": "markdown",
      "metadata": {
        "id": "view-in-github",
        "colab_type": "text"
      },
      "source": [
        "<a href=\"https://colab.research.google.com/github/mariumumair7/Class-4-Assignments/blob/main/Class_4_Assignment.ipynb\" target=\"_parent\"><img src=\"https://colab.research.google.com/assets/colab-badge.svg\" alt=\"Open In Colab\"/></a>"
      ]
    },
    {
      "cell_type": "code",
      "execution_count": 1,
      "metadata": {
        "colab": {
          "base_uri": "https://localhost:8080/"
        },
        "id": "qWUbkydFOgo_",
        "outputId": "9606b773-7d82-4a96-e664-d505d85012de"
      },
      "outputs": [
        {
          "output_type": "stream",
          "name": "stdout",
          "text": [
            "olleh\n"
          ]
        }
      ],
      "source": [
        "# Problem 1: Reverse a String\n",
        "def reverse_string(s):\n",
        "    return s[::-1]\n",
        "\n",
        "input_string = \"hello\"\n",
        "output_string = reverse_string(input_string)\n",
        "print(output_string)\n"
      ]
    },
    {
      "cell_type": "code",
      "source": [
        "# Problem 2: Count Vowels in a String\n",
        "def count_vowels(s):\n",
        "    vowels = \"aeiouAEIOU\"\n",
        "    count = 0\n",
        "    for char in s:\n",
        "        if char in vowels:\n",
        "            count += 1\n",
        "    return count\n",
        "\n",
        "\n",
        "input_string = \"Apple\"\n",
        "output_count = count_vowels(input_string)\n",
        "print(output_count)\n"
      ],
      "metadata": {
        "colab": {
          "base_uri": "https://localhost:8080/"
        },
        "id": "Yn1lrQ7uOyat",
        "outputId": "981794c0-b7fa-45d0-f5df-63836a5e884d"
      },
      "execution_count": 2,
      "outputs": [
        {
          "output_type": "stream",
          "name": "stdout",
          "text": [
            "2\n"
          ]
        }
      ]
    },
    {
      "cell_type": "code",
      "source": [
        "# Problem 3: Sum of Digits\n",
        "def sum_of_digits(n):\n",
        "    return sum(int(digit) for digit in str(n))\n",
        "\n",
        "\n",
        "input_number = 1234\n",
        "output_sum = sum_of_digits(input_number)\n",
        "print(output_sum)\n"
      ],
      "metadata": {
        "colab": {
          "base_uri": "https://localhost:8080/"
        },
        "id": "K-Q4L3-SO-ri",
        "outputId": "8e41df7f-79aa-43f4-f88e-892c8548aa09"
      },
      "execution_count": 3,
      "outputs": [
        {
          "output_type": "stream",
          "name": "stdout",
          "text": [
            "10\n"
          ]
        }
      ]
    }
  ]
}